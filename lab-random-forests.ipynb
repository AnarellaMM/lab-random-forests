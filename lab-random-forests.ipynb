{
 "cells": [
  {
   "cell_type": "markdown",
   "id": "f28b99f2-e73d-47b8-9249-792e59201500",
   "metadata": {},
   "source": [
    "**<font size=\"5\">AMM Random Forest</font>** ",
    "\n"
   ]
  },
  {
   "cell_type": "code",
   "execution_count": 21,
   "id": "b71b58e3-bba8-48cc-9b26-6f6446e30419",
   "metadata": {},
   "outputs": [],
   "source": [
    "import pandas as pd\n",
    "from sklearn.model_selection import train_test_split\n",
    "from sklearn.ensemble import RandomForestClassifier\n",
    "from sklearn.metrics import accuracy_score\n",
    "from imblearn.over_sampling import SMOTE"
   ]
  },
  {
   "cell_type": "code",
   "execution_count": 22,
   "id": "f4520137-3e69-4069-86ce-9187bc56e183",
   "metadata": {},
   "outputs": [
    {
     "name": "stdout",
     "output_type": "stream",
     "text": [
      "Numerical Data Head:\n",
      "   TCODE        AGE  INCOME  WEALTH1  HIT  MALEMILI  MALEVET  VIETVETS   \n",
      "0      0  60.000000       5        9    0         0       39        34  \\\n",
      "1      1  46.000000       6        9   16         0       15        55   \n",
      "2      1  61.611649       3        1    2         0       20        29   \n",
      "3      0  70.000000       1        4    2         0       23        14   \n",
      "4      0  78.000000       3        2   60         1       28         9   \n",
      "\n",
      "   WWIIVETS  LOCALGOV  ...  CARDGIFT  MINRAMNT  MAXRAMNT  LASTGIFT  TIMELAG   \n",
      "0        18        10  ...        14       5.0      12.0      10.0        4  \\\n",
      "1        11         6  ...         1      10.0      25.0      25.0       18   \n",
      "2        33         6  ...        14       2.0      16.0       5.0       12   \n",
      "3        31         3  ...         7       2.0      11.0      10.0        9   \n",
      "4        53        26  ...         8       3.0      15.0      15.0       14   \n",
      "\n",
      "     AVGGIFT  CONTROLN  HPHONE_D  RFA_2F  CLUSTER2  \n",
      "0   7.741935     95515         0       4        39  \n",
      "1  15.666667    148535         0       2         1  \n",
      "2   7.481481     15078         1       4        60  \n",
      "3   6.812500    172556         1       4        41  \n",
      "4   6.864865      7112         1       2        26  \n",
      "\n",
      "[5 rows x 315 columns]\n",
      "\n",
      "Categorical Data Head:\n",
      "  STATE  CLUSTER HOMEOWNR GENDER  DATASRCE RFA_2R RFA_2A GEOCODE2 DOMAIN_A   \n",
      "0    IL       36        H      F         3      L      E        C        T  \\\n",
      "1    CA       14        H      M         3      L      G        A        S   \n",
      "2    NC       43        U      M         3      L      E        C        R   \n",
      "3    CA       44        U      F         3      L      E        C        R   \n",
      "4    FL       16        H      F         3      L      F        A        S   \n",
      "\n",
      "   DOMAIN_B  ...  DOB_YR  DOB_MM  MINRDATE_YR  MINRDATE_MM  MAXRDATE_YR   \n",
      "0         2  ...      37      12           92            8           94  \\\n",
      "1         1  ...      52       2           93           10           95   \n",
      "2         2  ...       0       2           91           11           92   \n",
      "3         2  ...      28       1           87           11           94   \n",
      "4         2  ...      20       1           93           10           96   \n",
      "\n",
      "   MAXRDATE_MM  LASTDATE_YR  LASTDATE_MM  FIRSTDATE_YR  FIRSTDATE_MM  \n",
      "0            2           95           12            89            11  \n",
      "1           12           95           12            93            10  \n",
      "2            7           95           12            90             1  \n",
      "3           11           95           12            87             2  \n",
      "4            1           96            1            79             3  \n",
      "\n",
      "[5 rows x 22 columns]\n",
      "\n",
      "Target Data Head:\n",
      "   TARGET_B  TARGET_D\n",
      "0         0       0.0\n",
      "1         0       0.0\n",
      "2         0       0.0\n",
      "3         0       0.0\n",
      "4         0       0.0\n"
     ]
    }
   ],
   "source": [
    "numerical_data = pd.read_csv('numerical.csv')\n",
    "print(\"Numerical Data Head:\")\n",
    "print(numerical_data.head())\n",
    "\n",
    "categorical_data = pd.read_csv('categorical.csv')\n",
    "print(\"\\nCategorical Data Head:\")\n",
    "print(categorical_data.head())\n",
    "\n",
    "target_data = pd.read_csv('target.csv')\n",
    "print(\"\\nTarget Data Head:\")\n",
    "print(target_data.head())"
   ]
  },
  {
   "cell_type": "code",
   "execution_count": 23,
   "id": "d078f29d-eae6-4c9c-abb9-f416addc2996",
   "metadata": {},
   "outputs": [
    {
     "name": "stdout",
     "output_type": "stream",
     "text": [
      "\n",
      "Encoded Categorical Data Head:\n",
      "   CLUSTER  DATASRCE  DOMAIN_B  ODATEW_YR  ODATEW_MM  DOB_YR  DOB_MM   \n",
      "0       36         3         2         89          1      37      12  \\\n",
      "1       14         3         1         94          1      52       2   \n",
      "2       43         3         2         90          1       0       2   \n",
      "3       44         3         2         87          1      28       1   \n",
      "4       16         3         2         86          1      20       1   \n",
      "\n",
      "   MINRDATE_YR  MINRDATE_MM  MAXRDATE_YR  ...  RFA_2A_G  GEOCODE2_A   \n",
      "0           92            8           94  ...     False       False  \\\n",
      "1           93           10           95  ...      True        True   \n",
      "2           91           11           92  ...     False       False   \n",
      "3           87           11           94  ...     False       False   \n",
      "4           93           10           96  ...     False        True   \n",
      "\n",
      "   GEOCODE2_B  GEOCODE2_C  GEOCODE2_D  DOMAIN_A_C  DOMAIN_A_R  DOMAIN_A_S   \n",
      "0       False        True       False       False       False       False  \\\n",
      "1       False       False       False       False       False        True   \n",
      "2       False        True       False       False        True       False   \n",
      "3       False        True       False       False        True       False   \n",
      "4       False       False       False       False       False        True   \n",
      "\n",
      "   DOMAIN_A_T  DOMAIN_A_U  \n",
      "0        True       False  \n",
      "1       False       False  \n",
      "2       False       False  \n",
      "3       False       False  \n",
      "4       False       False  \n",
      "\n",
      "[5 rows x 46 columns]\n"
     ]
    }
   ],
   "source": [
    "categorical_data_encoded = pd.get_dummies(categorical_data)\n",
    "print(\"\\nEncoded Categorical Data Head:\")\n",
    "print(categorical_data_encoded.head())"
   ]
  },
  {
   "cell_type": "code",
   "execution_count": 24,
   "id": "4640a859-cbb7-4830-b603-43b1165f38f8",
   "metadata": {},
   "outputs": [
    {
     "name": "stdout",
     "output_type": "stream",
     "text": [
      "\n",
      "Combined Data Head:\n",
      "   TCODE        AGE  INCOME  WEALTH1  HIT  MALEMILI  MALEVET  VIETVETS   \n",
      "0      0  60.000000       5        9    0         0       39        34  \\\n",
      "1      1  46.000000       6        9   16         0       15        55   \n",
      "2      1  61.611649       3        1    2         0       20        29   \n",
      "3      0  70.000000       1        4    2         0       23        14   \n",
      "4      0  78.000000       3        2   60         1       28         9   \n",
      "\n",
      "   WWIIVETS  LOCALGOV  ...  RFA_2A_G  GEOCODE2_A  GEOCODE2_B  GEOCODE2_C   \n",
      "0        18        10  ...     False       False       False        True  \\\n",
      "1        11         6  ...      True        True       False       False   \n",
      "2        33         6  ...     False       False       False        True   \n",
      "3        31         3  ...     False       False       False        True   \n",
      "4        53        26  ...     False        True       False       False   \n",
      "\n",
      "   GEOCODE2_D  DOMAIN_A_C  DOMAIN_A_R  DOMAIN_A_S  DOMAIN_A_T  DOMAIN_A_U  \n",
      "0       False       False       False       False        True       False  \n",
      "1       False       False       False        True       False       False  \n",
      "2       False       False        True       False       False       False  \n",
      "3       False       False        True       False       False       False  \n",
      "4       False       False       False        True       False       False  \n",
      "\n",
      "[5 rows x 361 columns]\n"
     ]
    }
   ],
   "source": [
    "combined_data = pd.concat([numerical_data, categorical_data_encoded], axis=1)\n",
    "print(\"\\nCombined Data Head:\")\n",
    "print(combined_data.head())"
   ]
  },
  {
   "cell_type": "code",
   "execution_count": 25,
   "id": "f56cf29e-20ba-4561-99a9-f986f2b91e71",
   "metadata": {},
   "outputs": [
    {
     "name": "stdout",
     "output_type": "stream",
     "text": [
      "\n",
      "Columns of numerical_data:\n",
      "Index(['TCODE', 'AGE', 'INCOME', 'WEALTH1', 'HIT', 'MALEMILI', 'MALEVET',\n",
      "       'VIETVETS', 'WWIIVETS', 'LOCALGOV',\n",
      "       ...\n",
      "       'CARDGIFT', 'MINRAMNT', 'MAXRAMNT', 'LASTGIFT', 'TIMELAG', 'AVGGIFT',\n",
      "       'CONTROLN', 'HPHONE_D', 'RFA_2F', 'CLUSTER2'],\n",
      "      dtype='object', length=315)\n",
      "\n",
      "Columns of categorical_data:\n",
      "Index(['STATE', 'CLUSTER', 'HOMEOWNR', 'GENDER', 'DATASRCE', 'RFA_2R',\n",
      "       'RFA_2A', 'GEOCODE2', 'DOMAIN_A', 'DOMAIN_B', 'ODATEW_YR', 'ODATEW_MM',\n",
      "       'DOB_YR', 'DOB_MM', 'MINRDATE_YR', 'MINRDATE_MM', 'MAXRDATE_YR',\n",
      "       'MAXRDATE_MM', 'LASTDATE_YR', 'LASTDATE_MM', 'FIRSTDATE_YR',\n",
      "       'FIRSTDATE_MM'],\n",
      "      dtype='object')\n",
      "\n",
      "Columns of categorical_data_encoded:\n",
      "Index(['CLUSTER', 'DATASRCE', 'DOMAIN_B', 'ODATEW_YR', 'ODATEW_MM', 'DOB_YR',\n",
      "       'DOB_MM', 'MINRDATE_YR', 'MINRDATE_MM', 'MAXRDATE_YR', 'MAXRDATE_MM',\n",
      "       'LASTDATE_YR', 'LASTDATE_MM', 'FIRSTDATE_YR', 'FIRSTDATE_MM',\n",
      "       'STATE_CA', 'STATE_FL', 'STATE_GA', 'STATE_IL', 'STATE_IN', 'STATE_MI',\n",
      "       'STATE_MO', 'STATE_NC', 'STATE_TX', 'STATE_WA', 'STATE_WI',\n",
      "       'STATE_other', 'HOMEOWNR_H', 'HOMEOWNR_U', 'GENDER_F', 'GENDER_M',\n",
      "       'GENDER_other', 'RFA_2R_L', 'RFA_2A_D', 'RFA_2A_E', 'RFA_2A_F',\n",
      "       'RFA_2A_G', 'GEOCODE2_A', 'GEOCODE2_B', 'GEOCODE2_C', 'GEOCODE2_D',\n",
      "       'DOMAIN_A_C', 'DOMAIN_A_R', 'DOMAIN_A_S', 'DOMAIN_A_T', 'DOMAIN_A_U'],\n",
      "      dtype='object')\n",
      "\n",
      "Columns of combined_data:\n",
      "Index(['TCODE', 'AGE', 'INCOME', 'WEALTH1', 'HIT', 'MALEMILI', 'MALEVET',\n",
      "       'VIETVETS', 'WWIIVETS', 'LOCALGOV',\n",
      "       ...\n",
      "       'RFA_2A_G', 'GEOCODE2_A', 'GEOCODE2_B', 'GEOCODE2_C', 'GEOCODE2_D',\n",
      "       'DOMAIN_A_C', 'DOMAIN_A_R', 'DOMAIN_A_S', 'DOMAIN_A_T', 'DOMAIN_A_U'],\n",
      "      dtype='object', length=361)\n"
     ]
    }
   ],
   "source": [
    "print(\"\\nColumns of numerical_data:\")\n",
    "print(numerical_data.columns)\n",
    "\n",
    "# Display column names of categorical_data\n",
    "print(\"\\nColumns of categorical_data:\")\n",
    "print(categorical_data.columns)\n",
    "\n",
    "# Display column names of categorical_data_encoded\n",
    "print(\"\\nColumns of categorical_data_encoded:\")\n",
    "print(categorical_data_encoded.columns)\n",
    "\n",
    "# Display column names of combined_data\n",
    "print(\"\\nColumns of combined_data:\")\n",
    "print(combined_data.columns)"
   ]
  },
  {
   "cell_type": "code",
   "execution_count": 26,
   "id": "1c7b5cfc-fd21-4088-a827-bdd17acd67de",
   "metadata": {},
   "outputs": [
    {
     "name": "stdout",
     "output_type": "stream",
     "text": [
      "\n",
      "Columns of target_data:\n",
      "Index(['TARGET_B', 'TARGET_D'], dtype='object')\n",
      "\n",
      "The target variable is: targetB\n"
     ]
    }
   ],
   "source": [
    "print(\"\\nColumns of target_data:\")\n",
    "print(target_data.columns)\n",
    "\n",
    "# Identify the target variable\n",
    "target_variable = 'targetB'\n",
    "print(\"\\nThe target variable is:\", target_variable)"
   ]
  },
  {
   "cell_type": "markdown",
   "id": "aea2c182-489b-40fb-8f0f-e061e3885271",
   "metadata": {},
   "source": [
    "**TARGET_B:** This column represents the model's prediction for whether something will happen (like a purchase, yes or no).\n",
    "\n",
    "**TARGET_D:** This column represents how much of that something is expected to happen (like the amount of money spent).\n",
    "\n",
    "The target variable we're focusing on is 'targetB', which predicts a simple yes/no outcome. The model tries to guess whether an event will occur or not. It's like predicting whether someone will make a purchase (yes) or not (no)."
   ]
  },
  {
   "cell_type": "code",
   "execution_count": 27,
   "id": "0ec80892-c023-4704-80bb-5caabed6c575",
   "metadata": {},
   "outputs": [
    {
     "name": "stdout",
     "output_type": "stream",
     "text": [
      "\n",
      "Shape of X: (95412, 361)\n",
      "Shape of y: (95412,)\n"
     ]
    }
   ],
   "source": [
    "X = combined_data\n",
    "y = target_data['TARGET_B']\n",
    "\n",
    "# Print the shapes of X and y\n",
    "print(\"\\nShape of X:\", X.shape)\n",
    "print(\"Shape of y:\", y.shape)"
   ]
  },
  {
   "cell_type": "markdown",
   "id": "c5f2f1da-1387-4e8b-80c5-078ee53db165",
   "metadata": {},
   "source": [
    "**Shape of X:** This tells us how many rows (examples) and columns (features) are in our dataset. In this case, we have 95,412 rows and 361 columns.\n",
    "\n",
    "**Shape of y:** This shows the number of rows in our target variable. It matches the number of rows in our dataset, so we have 95,412 values in the target variable.\n",
    "\n",
    "In simpler terms, it's like knowing we have a big table with lots of rows and columns, and we're also keeping track of something (our target) for each row in that table."
   ]
  },
  {
   "cell_type": "code",
   "execution_count": 28,
   "id": "fc42299e-dbae-4e5d-b2d7-daa1fdcc1919",
   "metadata": {},
   "outputs": [
    {
     "name": "stdout",
     "output_type": "stream",
     "text": [
      "\n",
      "Shape of X_train_resampled: (144928, 361)\n",
      "Shape of y_train_resampled: (144928,)\n"
     ]
    }
   ],
   "source": [
    "X_train, X_test, y_train, y_test = train_test_split(X, y, test_size=0.2, random_state=42)\n",
    "\n",
    "# Apply SMOTE to upsample the minority class\n",
    "smote = SMOTE(random_state=42)\n",
    "X_train_resampled, y_train_resampled = smote.fit_resample(X_train, y_train)\n",
    "\n",
    "# Print the shapes of X_train_resampled and y_train_resampled\n",
    "print(\"\\nShape of X_train_resampled:\", X_train_resampled.shape)\n",
    "print(\"Shape of y_train_resampled:\", y_train_resampled.shape)"
   ]
  },
  {
   "cell_type": "markdown",
   "id": "14cb6ab9-3494-45c1-ba53-d1bd56686446",
   "metadata": {},
   "source": [
    "**Shape of X_train_resampled:** This tells us the size of our training dataset after applying a technique called SMOTE. We now have 144,928 rows and 361 columns.\n",
    "\n",
    "**Shape of y_train_resampled:** This shows the number of rows in our target variable, which matches the size of our training data. We have 144,928 values in the target variable.\n",
    "\n",
    "In simpler terms, we made our training data bigger to help our model learn better by adding more examples. It's like having more practice questions for a test to improve your performance."
   ]
  },
  {
   "cell_type": "code",
   "execution_count": 29,
   "id": "de2fb15f-f7bf-40fb-ba13-333eb02f9683",
   "metadata": {},
   "outputs": [
    {
     "name": "stdout",
     "output_type": "stream",
     "text": [
      "\n",
      "Random Forest Classifier Parameters:\n",
      "{'bootstrap': True, 'ccp_alpha': 0.0, 'class_weight': None, 'criterion': 'gini', 'max_depth': None, 'max_features': 'sqrt', 'max_leaf_nodes': None, 'max_samples': None, 'min_impurity_decrease': 0.0, 'min_samples_leaf': 1, 'min_samples_split': 2, 'min_weight_fraction_leaf': 0.0, 'n_estimators': 100, 'n_jobs': None, 'oob_score': False, 'random_state': 42, 'verbose': 0, 'warm_start': False}\n"
     ]
    }
   ],
   "source": [
    "rf_classifier = RandomForestClassifier(random_state=42)\n",
    "rf_classifier.fit(X_train_resampled, y_train_resampled)\n",
    "print(\"\\nRandom Forest Classifier Parameters:\")\n",
    "print(rf_classifier.get_params())"
   ]
  },
  {
   "cell_type": "markdown",
   "id": "8e0ba11f-af6f-4c24-b2eb-781bbc68c6e4",
   "metadata": {},
   "source": [
    "The \"Random Forest Classifier Parameters\" are like the settings or rules the computer follows to make predictions. These settings include:\n",
    "\n",
    "It uses 100 \"trees\" (imagine 100 separate decision-makers).\n",
    "It considers different parts of the data when making decisions (like looking at different features).\n",
    "It doesn't pay extra attention to any particular class.\n",
    "It splits decisions based on how they best separate the data.\n",
    "It doesn't set a maximum depth for each decision-maker (tree).\n",
    "These settings help the computer make predictions. For example, if you're predicting whether someone will make a purchase based on various factors like age, income, and location, these settings guide how the computer analyzes those factors and makes a final guess.\n",
    "\n",
    "The \"Random State\" value is set to 42, which ensures that the randomness in the model is the same every time you run it. This is important for reproducibility, so you can get the same results when you run the model again later.\n",
    "\n",
    "So, in simple terms, these settings and the random state value are like the rules of a game the computer plays to guess whether someone will make a purchase, and they help make sure the game is fair and reproducible."
   ]
  },
  {
   "cell_type": "code",
   "execution_count": 30,
   "id": "3af480e2-6350-4c6d-9c0f-5005771cc487",
   "metadata": {},
   "outputs": [
    {
     "name": "stdout",
     "output_type": "stream",
     "text": [
      "\n",
      "Predictions (y_pred):\n",
      "[0 0 0 ... 0 0 0]\n"
     ]
    }
   ],
   "source": [
    "y_pred = rf_classifier.predict(X_test)\n",
    "print(\"\\nPredictions (y_pred):\")\n",
    "print(y_pred)"
   ]
  },
  {
   "cell_type": "markdown",
   "id": "1a1ee857-e792-49ab-8a6c-fdbb1055b6d1",
   "metadata": {},
   "source": [
    "These \"Predictions (y_pred)\" are like the computer's guesses or decisions.\n",
    "For example, it's guessing that in different situations, people won't make a purchase, represented as 0. So, when you see these numbers (0, 0, 0, ...), it means the computer is making predictions that most likely, people won't make a purchase in those cases."
   ]
  },
  {
   "cell_type": "code",
   "execution_count": 31,
   "id": "51e16009-b519-4d56-90e4-fd69b8e93a06",
   "metadata": {},
   "outputs": [
    {
     "name": "stdout",
     "output_type": "stream",
     "text": [
      "\n",
      "Accuracy: 0.95\n"
     ]
    }
   ],
   "source": [
    "accuracy = accuracy_score(y_test, y_pred)\n",
    "print(f\"\\nAccuracy: {accuracy:.2f}\")"
   ]
  },
  {
   "cell_type": "markdown",
   "id": "4af02163-71d0-4621-b0d0-886e5bc5a85a",
   "metadata": {},
   "source": [
    "\"Accuracy: 0.95\" means that our computer model is correct about 95% of the time. In other words, it's doing a pretty good job at making predictions."
   ]
  },
  {
   "cell_type": "code",
   "execution_count": 32,
   "id": "847b7aa6-de5b-4107-92be-ddce68335aa9",
   "metadata": {},
   "outputs": [
    {
     "name": "stdout",
     "output_type": "stream",
     "text": [
      "\n",
      "Classification Report:\n",
      "              precision    recall  f1-score   support\n",
      "\n",
      "           0       0.95      1.00      0.97     18105\n",
      "           1       0.12      0.00      0.00       978\n",
      "\n",
      "    accuracy                           0.95     19083\n",
      "   macro avg       0.53      0.50      0.49     19083\n",
      "weighted avg       0.91      0.95      0.92     19083\n",
      "\n"
     ]
    }
   ],
   "source": [
    "from sklearn.metrics import classification_report\n",
    "classification_report_result = classification_report(y_test, y_pred)\n",
    "print(\"\\nClassification Report:\")\n",
    "print(classification_report_result)"
   ]
  },
  {
   "cell_type": "markdown",
   "id": "b4f7a8c1-2492-414f-99c0-434caa52a6e1",
   "metadata": {},
   "source": [
    "**Precision (0)**: When the model predicts \"0\" (no purchase), it's correct about 95% of the time. This means that when it says people won't make a purchase, it's usually right.\n",
    "\n",
    "**Recall (0):** Out of all the actual \"0\" cases (no purchase), the model identifies almost all of them, which is good.\n",
    "\n",
    "**F1-Score (0):** This is a balance between precision and recall. It tells us that the model is pretty good at identifying \"0\" cases.\n",
    "\n",
    "**Precision (1):** When the model predicts \"1\" (purchase), it's correct only about 12% of the time. So, when it says people will make a purchase, it's often wrong.\n",
    "\n",
    "**Recall (1):** Out of all the actual \"1\" cases (purchase), the model identifies very few of them.\n",
    "\n",
    "**F1-Score (1):** This is very low, indicating that the model struggles to identify \"1\" cases.\n",
    "\n",
    "**Accuracy:** Overall, the model is correct about 95% of the time, which sounds good, but it's mainly due to being really good at predicting \"0\" (no purchase).\n",
    "\n",
    "**Conclusion**\n",
    "\n",
    "In conclusion, the model is excellent at predicting when people won't make a purchase, but it struggles to identify cases where people will make a purchase. So, while the overall accuracy is high, it's mainly because of the abundance of \"0\" cases, and the model needs improvement in recognizing \"1\" cases."
   ]
  },
  {
   "cell_type": "code",
   "execution_count": null,
   "id": "010fcbf2-4c50-4910-98d9-d19779657bd8",
   "metadata": {},
   "outputs": [],
   "source": []
  }
 ],
 "metadata": {
  "kernelspec": {
   "display_name": "Python 3 (ipykernel)",
   "language": "python",
   "name": "python3"
  },
  "language_info": {
   "codemirror_mode": {
    "name": "ipython",
    "version": 3
   },
   "file_extension": ".py",
   "mimetype": "text/x-python",
   "name": "python",
   "nbconvert_exporter": "python",
   "pygments_lexer": "ipython3",
   "version": "3.10.9"
  }
 },
 "nbformat": 4,
 "nbformat_minor": 5
}
